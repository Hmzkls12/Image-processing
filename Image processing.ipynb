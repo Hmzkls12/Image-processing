{
 "cells": [
  {
   "cell_type": "markdown",
   "id": "a90db1ba-6346-456c-b18f-a494c03a7eef",
   "metadata": {},
   "source": [
    "# Computer Vision\n",
    "\n",
    "Computer Vision, bilgisayar bilimi ve yapay zeka alanlarının bir alt dalı olup, bilgisayarların dijital görüntüler üzerinde otomatik olarak analiz yapma yeteneğini araştıran disiplinlerarası bir alandır. Temel olarak, görsel verilerin anlamlandırılması ve yorumlanmasıyla ilgilenir. Bu, görüntü veya video verilerini işleyen algoritmaların ve sistemlerin geliştirilmesini içerir. Görüntü işleme, desen tanıma, makine öğrenimi ve yapay sinir ağları gibi birçok teknikten yararlanır.\n",
    "\n",
    "Computer Vision, sayısallaştırılmış görüntüleri anlamlandırma ve çıkarılan bilgileri kullanarak kararlar verme sürecini içerir. Bu, nesnelerin algılanması, tanınması, sınıflandırılması, takibi, hareket analizi, 3B modelleme, yüz tanıma, görüntü iyileştirme ve anlama gibi konuları kapsar.\n",
    "\n",
    "Genel olarak, Computer Vision, bilgisayarların insan benzeri görme yeteneklerine sahip olmasını hedefler ve birçok endüstri ve uygulama alanında kullanılabilir, örneğin otomotiv sektörü, sağlık hizmetleri, güvenlik sistemleri, robotik, tarım, eğitim ve eğlence endüstrilerinde yaygın olarak kullanılır."
   ]
  },
  {
   "cell_type": "markdown",
   "id": "ebfa1415-77ef-4991-9a36-5cfa1cb92932",
   "metadata": {},
   "source": [
    "### OpenCv Kütüphanesi Kullanımı\n",
    "OpenCv kütüphanesi kullanarak aşağıdaki işlemler yapılabilir:\n",
    "\n",
    "\n",
    "1-<strong>Nesne Tanıma:</strong><br><br>\n",
    "OpenCV, önceden eğitilmiş modeller veya kendi veri kümemizle nesneleri tanımak için kullanılabilir. Örneğin, bir görüntüdeki arabaları, insanları veya hayvanları algılamak için önceden eğitilmiş bir nesne tanıma modelini kullanabiliriz.<br><br>\n",
    "2-<strong>Yüz Algılama ve Yüz Tanıma:</strong><br><br>\n",
    "Bu örnekte, OpenCV'nin yüz algılama özelliklerinden yararlanarak kameradan veya bir görüntü dosyasından yüzleri algılayabiliriz. Daha sonra, algılanan yüzleri tanıma amacıyla eğitilmiş bir yüz tanıma algoritmasıyla eşleştirebiliriz.<br><br>\n",
    "\n",
    "3-<strong>Hareket Algılama ve Takip:</strong><br><br>\n",
    "OpenCV ile bir kamera veya video akışı üzerinde hareket algılama yapabiliriz. Hareket algılandığında, nesnelerin hareketini izlemek ve izlemek için bir takip algoritması uygulayabiliriz.\n"
   ]
  },
  {
   "cell_type": "markdown",
   "id": "bf8597a7-af19-4875-9ea5-9fb77b63b804",
   "metadata": {},
   "source": [
    "### 0- Kütüphanenin kurulumu"
   ]
  },
  {
   "cell_type": "code",
   "execution_count": null,
   "id": "e8300d50-497c-42e1-ac2b-cc458bffa579",
   "metadata": {},
   "outputs": [],
   "source": [
    "pip install opencv-python"
   ]
  },
  {
   "cell_type": "markdown",
   "id": "3a012d5b-7d9d-4b64-82fd-0539628cd9ab",
   "metadata": {},
   "source": [
    "### 1- Nesne Tanıma"
   ]
  },
  {
   "cell_type": "code",
   "execution_count": 5,
   "id": "16af5290-9980-42ea-86f9-c4266926ae24",
   "metadata": {},
   "outputs": [],
   "source": [
    "import cv2\n",
    "import numpy as np\n",
    "\n",
    "# Kamerayı açmak için VideoCapture kullanıyoruz\n",
    "kamera = cv2.VideoCapture(0)\n",
    "\n",
    "while True:\n",
    "    # Kameradan bir kare al\n",
    "    ret, kare = kamera.read()\n",
    "    \n",
    "    # Alınan kareyi HSV renk sistemine dönüştürme\n",
    "    hsv = cv2.cvtColor(kare, cv2.COLOR_BGR2HSV)\n",
    "    \n",
    "    # Mavi renk için bir renk aralığı belirleme (örneğin, mavi bir nesne tespit etmek için)\n",
    "    alt_mavi = np.array([90, 50, 50])\n",
    "    ust_mavi = np.array([130, 255, 255])\n",
    "    \n",
    "    # Belirlenen renk aralığında maskeleme işlemi\n",
    "    maske = cv2.inRange(hsv, alt_mavi, ust_mavi)\n",
    "    \n",
    "    # Maske üzerinde kontur tespiti\n",
    "    konturlar, _ = cv2.findContours(maske, cv2.RETR_EXTERNAL, cv2.CHAIN_APPROX_SIMPLE)\n",
    "    \n",
    "    # Konturları çizme\n",
    "    if len(konturlar) > 0:\n",
    "        en_buyuk_kontur = max(konturlar, key=cv2.contourArea)\n",
    "        x, y, w, h = cv2.boundingRect(en_buyuk_kontur)\n",
    "        cv2.rectangle(kare, (x, y), (x + w, y + h), (0, 255, 0), 2)\n",
    "    \n",
    "    # Sonuçları gösterme\n",
    "    cv2.imshow('Nesne Tespiti', kare)\n",
    "    \n",
    "    # 'q' tuşuna basıldığında döngüyü sonlandırma\n",
    "    if cv2.waitKey(1) & 0xFF == ord('q'):\n",
    "        break\n",
    "\n",
    "# Kamera nesnesini serbest bırakma ve pencereyi kapatma\n",
    "kamera.release()\n",
    "cv2.destroyAllWindows()\n"
   ]
  },
  {
   "cell_type": "markdown",
   "id": "474f1e1f-1f51-4097-b13b-2997d2f13464",
   "metadata": {},
   "source": [
    "### 2- Yüz Algılama ve Yüz Tanıma"
   ]
  },
  {
   "cell_type": "code",
   "execution_count": 6,
   "id": "3be2c9b7-6708-4de3-9ab5-215ce741fef0",
   "metadata": {},
   "outputs": [],
   "source": [
    "import cv2\n",
    "\n",
    "# Haar yüz sınıflandırıcısını yükleme\n",
    "yuz_sınıflandırıcı = cv2.CascadeClassifier(cv2.data.haarcascades + 'haarcascade_frontalface_default.xml')\n",
    "\n",
    "# Cihazın kamerasından görüntü almak için VideoCapture kullanıyoruz.\n",
    "kamera = cv2.VideoCapture(0)\n",
    "\n",
    "while True:\n",
    "    # Kameradan bir kare al\n",
    "    ret, kare = kamera.read()\n",
    "    \n",
    "    # Görüntüyü gri tonlamaya dönüştürme\n",
    "    gri_kare = cv2.cvtColor(kare, cv2.COLOR_BGR2GRAY)\n",
    "    \n",
    "    # Yüzleri tespit etme\n",
    "    yuzler = yuz_sınıflandırıcı.detectMultiScale(gri_kare, scaleFactor=1.1, minNeighbors=5, minSize=(30, 30))\n",
    "    \n",
    "    # Tespit edilen yüzlerin etrafına dikdörtgen çizme\n",
    "    for (x, y, w, h) in yuzler:\n",
    "        cv2.rectangle(kare, (x, y), (x+w, y+h), (255, 0, 0), 2)\n",
    "    \n",
    "    # Sonuçları gösterme\n",
    "    cv2.imshow('Yüz Tespiti', kare)\n",
    "    \n",
    "    # 'q' tuşuna basıldığında döngüyü sonlandırma\n",
    "    if cv2.waitKey(1) & 0xFF == ord('q'):\n",
    "        break\n",
    "\n",
    "# Kamera nesnesini ve pencereyi serbest bırakma\n",
    "kamera.release()\n",
    "cv2.destroyAllWindows()"
   ]
  },
  {
   "cell_type": "markdown",
   "id": "1384bf1c-b05d-4ff2-a44b-0740b99eba31",
   "metadata": {},
   "source": [
    "### 3- Hareket Algılama ve Takip"
   ]
  },
  {
   "cell_type": "code",
   "execution_count": 7,
   "id": "b265a851-406a-49c5-af2f-3e8cfaf6087f",
   "metadata": {},
   "outputs": [],
   "source": [
    "import cv2\n",
    "\n",
    "# Hareket algılama için önceki kareyi depolamak için bir değişken\n",
    "onceki_kare = None\n",
    "\n",
    "# Webcam'den görüntü almak için VideoCapture nesnesini başlatma\n",
    "kamera = cv2.VideoCapture(0)\n",
    "\n",
    "while True:\n",
    "    # Kameradan bir kare al\n",
    "    ret, kare = kamera.read()\n",
    "    \n",
    "    # Kareyi gri tonlamalıya dönüştürme (daha hızlı işlem için)\n",
    "    gri_kare = cv2.cvtColor(kare, cv2.COLOR_BGR2GRAY)\n",
    "    \n",
    "    # Hareket algılama için fark görüntüsü oluşturma\n",
    "    if onceki_kare is None:\n",
    "        onceki_kare = gri_kare\n",
    "        continue\n",
    "    \n",
    "    fark = cv2.absdiff(onceki_kare, gri_kare)\n",
    "    \n",
    "    # Fark görüntüsünde eşik değeri uygulama\n",
    "    esik_degeri = 30\n",
    "    _, esikli_fark = cv2.threshold(fark, esik_degeri, 255, cv2.THRESH_BINARY)\n",
    "    \n",
    "    # Esikli fark görüntüsünde konturları bulma\n",
    "    konturlar, _ = cv2.findContours(esikli_fark.copy(), cv2.RETR_EXTERNAL, cv2.CHAIN_APPROX_SIMPLE)\n",
    "    \n",
    "    # Konturları çizme ve hareketli nesnelerin takibi\n",
    "    for kontur in konturlar:\n",
    "        if cv2.contourArea(kontur) < 500: # Küçük konturları yok sayma (gürültüyü azaltır)\n",
    "            continue\n",
    "        (x, y, w, h) = cv2.boundingRect(kontur)\n",
    "        cv2.rectangle(kare, (x, y), (x + w, y + h), (0, 255, 0), 2)\n",
    "    \n",
    "    # Sonuçları gösterme\n",
    "    cv2.imshow('Hareket Algılama', kare)\n",
    "    \n",
    "    # 'q' tuşuna basıldığında döngüyü sonlandırma\n",
    "    if cv2.waitKey(1) & 0xFF == ord('q'):\n",
    "        break\n",
    "    \n",
    "    # Bir sonraki çerçeve için önceki kareyi güncelleme\n",
    "    onceki_kare = gri_kare\n",
    "\n",
    "# Kamera nesnesini ve pencereyi serbest bırakma\n",
    "kamera.release()\n",
    "cv2.destroyAllWindows()\n"
   ]
  }
 ],
 "metadata": {
  "kernelspec": {
   "display_name": "Python 3 (ipykernel)",
   "language": "python",
   "name": "python3"
  },
  "language_info": {
   "codemirror_mode": {
    "name": "ipython",
    "version": 3
   },
   "file_extension": ".py",
   "mimetype": "text/x-python",
   "name": "python",
   "nbconvert_exporter": "python",
   "pygments_lexer": "ipython3",
   "version": "3.11.9"
  }
 },
 "nbformat": 4,
 "nbformat_minor": 5
}
